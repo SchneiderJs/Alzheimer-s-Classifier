{
  "nbformat": 4,
  "nbformat_minor": 0,
  "metadata": {
    "colab": {
      "name": "AlzheimerIdentificationDataset.ipynb",
      "provenance": [],
      "authorship_tag": "ABX9TyOku1txX3W+oeQ+xIPVp+1i",
      "include_colab_link": true
    },
    "kernelspec": {
      "name": "python3",
      "display_name": "Python 3"
    }
  },
  "cells": [
    {
      "cell_type": "markdown",
      "metadata": {
        "id": "view-in-github",
        "colab_type": "text"
      },
      "source": [
        "<a href=\"https://colab.research.google.com/github/SchneiderJs/Alzheimer-s-Classifier/blob/main/AlzheimerIdentificationDataset.ipynb\" target=\"_parent\"><img src=\"https://colab.research.google.com/assets/colab-badge.svg\" alt=\"Open In Colab\"/></a>"
      ]
    },
    {
      "cell_type": "code",
      "metadata": {
        "id": "GdaxQv1lrdbd"
      },
      "source": [
        "import os\n",
        "import numpy as np\n",
        "import cv2\n",
        "from google.colab.patches import cv2_imshow\n",
        "import keras\n",
        "\n",
        "\n",
        "train_folder = '/content/drive/My Drive/Dataset/Alzheimer_s Dataset/test/MildDemented'\n",
        "\n",
        "def get_files_from_folder(path):\n",
        "    files = os.listdir(path)\n",
        "    return np.asarray(files)\n",
        "\n",
        "\n",
        "train_images = [cv2.imread(f'{train_folder}/{file_name}') for index, file_name in enumerate(get_files_from_folder(train_folder)) if index <= 5]\n"
      ],
      "execution_count": null,
      "outputs": []
    },
    {
      "cell_type": "code",
      "metadata": {
        "id": "3l5S3WGiy_V7"
      },
      "source": [
        "image = train_images[0]\n",
        "gray = cv2.cvtColor(image, cv2.COLOR_BGR2GRAY)\n",
        "\n",
        "cv2_imshow(gray)\n"
      ],
      "execution_count": null,
      "outputs": []
    },
    {
      "cell_type": "code",
      "metadata": {
        "id": "eIm6LPkb1yPM"
      },
      "source": [
        "\n"
      ],
      "execution_count": 23,
      "outputs": []
    }
  ]
}